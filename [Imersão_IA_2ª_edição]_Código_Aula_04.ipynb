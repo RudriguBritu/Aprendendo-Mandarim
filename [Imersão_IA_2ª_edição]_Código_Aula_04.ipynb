{
  "cells": [
    {
      "cell_type": "markdown",
      "metadata": {
        "id": "view-in-github",
        "colab_type": "text"
      },
      "source": [
        "<a href=\"https://colab.research.google.com/github/RudriguBritu/Aprendendo-Mandarim/blob/main/%5BImers%C3%A3o_IA_2%C2%AA_edi%C3%A7%C3%A3o%5D_C%C3%B3digo_Aula_04.ipynb\" target=\"_parent\"><img src=\"https://colab.research.google.com/assets/colab-badge.svg\" alt=\"Open In Colab\"/></a>"
      ]
    },
    {
      "cell_type": "code",
      "execution_count": 1,
      "metadata": {
        "id": "nFQLKQ6hfXch"
      },
      "outputs": [],
      "source": [
        "#Instalando o SDK do Google\n",
        "!pip install -q -U google-generativeai"
      ]
    },
    {
      "cell_type": "code",
      "execution_count": 23,
      "metadata": {
        "id": "IthzwfnAfcsi"
      },
      "outputs": [],
      "source": [
        "#Configurações iniciais\n",
        "import google.generativeai as genai\n",
        "from google.colab import userdata\n",
        "api_key = userdata.get ('SECRET_KEY')\n",
        "genai.configure(api_key=api_key)"
      ]
    },
    {
      "cell_type": "code",
      "execution_count": 3,
      "metadata": {
        "colab": {
          "base_uri": "https://localhost:8080/",
          "height": 139
        },
        "id": "iD3ihugymWBt",
        "outputId": "a52089fd-bd3d-4309-fb2f-04d26d97af15"
      },
      "outputs": [
        {
          "output_type": "stream",
          "name": "stdout",
          "text": [
            "models/gemini-1.0-pro\n",
            "models/gemini-1.0-pro-001\n",
            "models/gemini-1.0-pro-latest\n",
            "models/gemini-1.0-pro-vision-latest\n",
            "models/gemini-1.5-pro-latest\n",
            "models/gemini-pro\n",
            "models/gemini-pro-vision\n"
          ]
        }
      ],
      "source": [
        "#Listando os modelos disponíveis\n",
        "for m in genai.list_models():\n",
        "  if 'generateContent' in m.supported_generation_methods:\n",
        "    print(m.name)"
      ]
    },
    {
      "cell_type": "code",
      "execution_count": 9,
      "metadata": {
        "id": "O1ochaeyDn_o"
      },
      "outputs": [],
      "source": [
        "generation_config = {\n",
        "  \"candidate_count\": 1,\n",
        "  \"temperature\": 0.5,\n",
        "}"
      ]
    },
    {
      "cell_type": "code",
      "execution_count": 10,
      "metadata": {
        "id": "jwBv7DofDofw"
      },
      "outputs": [],
      "source": [
        "safety_settings={\n",
        "    'HATE': 'BLOCK_NONE',\n",
        "    'HARASSMENT': 'BLOCK_NONE',\n",
        "    'SEXUAL' : 'BLOCK_NONE',\n",
        "    'DANGEROUS' : 'BLOCK_NONE'\n",
        "    }"
      ]
    },
    {
      "cell_type": "code",
      "execution_count": 22,
      "metadata": {
        "id": "NIiSs1R5mVJE"
      },
      "outputs": [],
      "source": [
        "model = genai.GenerativeModel(model_name='gemini-pro-vision',\n",
        "                                  generation_config=generation_config,\n",
        "                                  safety_settings=safety_settings,)"
      ]
    },
    {
      "cell_type": "code",
      "execution_count": 15,
      "metadata": {
        "colab": {
          "base_uri": "https://localhost:8080/",
          "height": 122
        },
        "id": "vrRjhT2rlrU_",
        "outputId": "df5df103-4af8-48da-e05b-a27562edced2"
      },
      "outputs": [
        {
          "output_type": "execute_result",
          "data": {
            "text/plain": [
              "'## Dicas para Aprender Mandarim Chinês do Zero:\\n\\nAprender mandarim pode ser uma jornada desafiadora, mas recompensadora. Aqui estão algumas sugestões para te ajudar a começar:\\n\\n**Construindo uma Base Sólida:**\\n\\n* **Pinyin:** Comece aprendendo Pinyin, o sistema de romanização do mandarim. Isso te ajudará a pronunciar os sons corretamente. Existem diversos recursos online e aplicativos dedicados ao aprendizado de Pinyin.\\n* **Tons:** O mandarim é uma língua tonal, com 4 tons principais e um tom neutro. Dominar os tons é crucial para a compreensão e comunicação. Pratique a pronúncia de cada tom com áudios e exercícios específicos.\\n* **Caracteres básicos:** Comece com os caracteres mais comuns e simples. Existem aplicativos como o Skritter ou HelloChinese que podem te ajudar a aprender a escrever e reconhecer os caracteres.\\n\\n**Imersão e Prática:**\\n\\n* **Aplicativos e cursos online:** Utilize aplicativos como Duolingo, Memrise ou HelloChinese para aprender vocabulário e gramática básica. Considere também cursos online como o ChinesePod ou Yoyo Chinese para um aprendizado mais estruturado.\\n* **Filmes e séries:** Assista a filmes e séries chinesas com legendas em português ou inglês para se familiarizar com a língua e a cultura.\\n* **Música:** Ouça música chinesa e tente acompanhar as letras para melhorar sua compreensão auditiva e aprender novas palavras.\\n* **Comunicação:** Encontre um parceiro de intercâmbio linguístico online ou participe de grupos de conversação para praticar suas habilidades de fala e escuta.\\n\\n**Dicas Adicionais:**\\n\\n* **Defina metas realistas:** Comece com metas pequenas e alcançáveis para manter a motivação.\\n* **Seja consistente:** Dedique um tempo diário ou semanal para estudar, mesmo que seja por pouco tempo.\\n* **Divirta-se:**  Torne o aprendizado divertido com jogos, músicas e atividades interativas.\\n* **Não tenha medo de errar:** O importante é praticar e aprender com os erros.\\n\\n**Recursos Úteis:**\\n\\n* **Pleco:** Dicionário chinês-inglês/português\\n* **Skritter:** Aplicativo para aprender a escrever caracteres chineses\\n* **HelloChinese:** Aplicativo para aprender mandarim\\n* **ChinesePod:** Cursos online de mandarim\\n* **Yoyo Chinese:** Cursos online de mandarim\\n\\nLembre-se, a chave para o sucesso é a dedicação e a prática constante. Boa sorte em sua jornada de aprendizado do mandarim! \\n'"
            ],
            "application/vnd.google.colaboratory.intrinsic+json": {
              "type": "string"
            }
          },
          "metadata": {},
          "execution_count": 15
        }
      ],
      "source": [
        "response = model.generate_content(\"Pretendo aprender o mandarim chinês do início, me dê sugestões para estudo\")\n",
        "response.text"
      ]
    },
    {
      "cell_type": "code",
      "execution_count": 21,
      "metadata": {
        "colab": {
          "base_uri": "https://localhost:8080/",
          "height": 1000
        },
        "id": "KpaQ6hm5f2_J",
        "outputId": "2f334311-fe71-484d-968f-73c270a5aa1e"
      },
      "outputs": [
        {
          "name": "stdout",
          "output_type": "stream",
          "text": [
            "Esperando prompt: você consegue ensinar o mandarim chinês do início para mim?\n",
            "Resposta: 当然可以！我很乐意帮助你学习基础的中文普通话。我们可以从哪里开始呢？你想先学习拼音、基本的问候语，还是简单的汉字？ \n",
            "\n",
            "(Of course! I'd be happy to help you learn basic Mandarin Chinese. Where would you like to begin? Would you like to start with pinyin, basic greetings, or simple characters?) \n",
            " \n",
            "\n",
            "\n",
            "Esperando prompt: podemos começar com o pinyin\n",
            "Resposta: 好的！拼音是学习中文发音的基础，它使用罗马字母来表示汉字的读音。\n",
            "\n",
            "**声母 (Initials)**\n",
            "\n",
            "拼音有 23 个声母，它们都是辅音：\n",
            "\n",
            "*   b, p, m, f, d, t, n, l, g, k, h, j, q, x, zh, ch, sh, r, z, c, s, y, w\n",
            "\n",
            "**韵母 (Finals)**\n",
            "\n",
            "拼音有 36 个韵母，它们都是元音或元音组合：\n",
            "\n",
            "*   a, o, e, i, u, ü, ai, ei, ao, ou, ia, ie, ua, uo, üe, iao, iou, ian, in, iang, ing, uai, uei, uan, uen, uang, ueng, ong\n",
            "\n",
            "**声调 (Tones)**\n",
            "\n",
            "普通话有四个声调，加上一个轻声：\n",
            "\n",
            "*   **第一声 (ˉ)**：高平调，例如：mā (妈)\n",
            "*   **第二声 (ˊ)**：升调，例如：má (麻)\n",
            "*   **第三声 (ˇ)**：降升调，例如：mǎ (马)\n",
            "*   **第四声 (ˋ)**：降调，例如：mà (骂)\n",
            "*   **轻声**：没有固定调值，例如：ma (吗)\n",
            "\n",
            "我们可以先练习一些简单的音节，比如：\n",
            "\n",
            "*   ba, pa, ma, fa\n",
            "*   da, ta, na, la\n",
            "*   ga, ka, ha\n",
            "\n",
            "你想试试吗？\n",
            " \n",
            "\n",
            "\n",
            "Esperando prompt: ensine na minha língua\n",
            "Resposta: Ah, desculpe! Claro, podemos continuar em português. \n",
            "\n",
            "**Pinyin: A Base da Pronúncia Chinesa**\n",
            "\n",
            "Pinyin é um sistema que usa o alfabeto romano para representar os sons dos caracteres chineses. É essencial para aprender a pronunciar o mandarim corretamente. \n",
            "\n",
            "**Iniciais (Consoantes)**\n",
            "\n",
            "Existem 23 iniciais em pinyin, todas consoantes:\n",
            "\n",
            "*   b, p, m, f, d, t, n, l, g, k, h, j, q, x, zh, ch, sh, r, z, c, s, y, w\n",
            "\n",
            "**Finais (Vogais)**\n",
            "\n",
            "Existem 36 finais em pinyin, que são vogais ou combinações de vogais:\n",
            "\n",
            "*   a, o, e, i, u, ü, ai, ei, ao, ou, ia, ie, ua, uo, üe, iao, iou, ian, in, iang, ing, uai, uei, uan, uen, uang, ueng, ong\n",
            "\n",
            "**Tons**\n",
            "\n",
            "O mandarim tem quatro tons, mais um tom neutro:\n",
            "\n",
            "*   **Primeiro tom (ˉ)**: Tom alto e nivelado, como em \"mā\" (mãe)\n",
            "*   **Segundo tom (ˊ)**: Tom ascendente, como em \"má\" (cânhamo)\n",
            "*   **Terceiro tom (ˇ)**: Tom descendente e ascendente, como em \"mǎ\" (cavalo)\n",
            "*   **Quarto tom (ˋ)**: Tom descendente, como em \"mà\" (xingar)\n",
            "*   **Tom neutro**: Sem tom definido, como em \"ma\" (partícula interrogativa)\n",
            "\n",
            "Podemos começar praticando algumas sílabas simples, como:\n",
            "\n",
            "*   ba, pa, ma, fa\n",
            "*   da, ta, na, la\n",
            "*   ga, ka, ha\n",
            "\n",
            "Gostaria de tentar pronunciá-las? \n",
            " \n",
            "\n",
            "\n",
            "Esperando prompt: retornaremos mais tarde para continuarmos as aulas\n",
            "Resposta: Sem problemas! Estou aqui sempre que quiser retomar as aulas de mandarim. Avise-me quando estiver pronto para continuar. Até mais! \n",
            " \n",
            "\n",
            "\n",
            "Esperando prompt: fim\n"
          ]
        }
      ],
      "source": [
        "chat = model.start_chat(history=[])\n",
        "\n",
        "prompt = input('Esperando prompt: ')\n",
        "\n",
        "while prompt != \"fim\":\n",
        "  response = chat.send_message(prompt)\n",
        "  print(\"Resposta:\", response.text, '\\n\\n')\n",
        "  prompt = input('Esperando prompt: ')"
      ]
    },
    {
      "cell_type": "code",
      "execution_count": 18,
      "metadata": {
        "id": "XLAniTTDhHNW",
        "outputId": "316fd53e-e6ab-47cc-d196-63ba928a05a3",
        "colab": {
          "base_uri": "https://localhost:8080/"
        }
      },
      "outputs": [
        {
          "output_type": "execute_result",
          "data": {
            "text/plain": [
              "ChatSession(\n",
              "    model=genai.GenerativeModel(\n",
              "        model_name='models/gemini-1.5-pro-latest',\n",
              "        generation_config={'candidate_count': 1, 'temperature': 0.5},\n",
              "        safety_settings={<HarmCategory.HARM_CATEGORY_HATE_SPEECH: 8>: <HarmBlockThreshold.BLOCK_NONE: 4>, <HarmCategory.HARM_CATEGORY_HARASSMENT: 7>: <HarmBlockThreshold.BLOCK_NONE: 4>, <HarmCategory.HARM_CATEGORY_SEXUALLY_EXPLICIT: 9>: <HarmBlockThreshold.BLOCK_NONE: 4>, <HarmCategory.HARM_CATEGORY_DANGEROUS_CONTENT: 10>: <HarmBlockThreshold.BLOCK_NONE: 4>},\n",
              "        tools=None,\n",
              "        system_instruction=None,\n",
              "    ),\n",
              "    history=[glm.Content({'parts': [{'text': 'qual a capital da China?'}], 'role': 'user'}), glm.Content({'parts': [{'text': 'A capital da...Pequim. 🇨🇳 \\n'}], 'role': 'model'})]\n",
              ")"
            ]
          },
          "metadata": {},
          "execution_count": 18
        }
      ],
      "source": [
        "chat"
      ]
    },
    {
      "cell_type": "code",
      "execution_count": 24,
      "metadata": {
        "id": "sd8mvW9KghTf",
        "outputId": "c4451d1d-ba3a-4719-acfe-3a3d1477acb1",
        "colab": {
          "base_uri": "https://localhost:8080/"
        }
      },
      "outputs": [
        {
          "output_type": "execute_result",
          "data": {
            "text/plain": [
              "[parts {\n",
              "   text: \"voc\\303\\252 consegue ensinar o mandarim chin\\303\\252s do in\\303\\255cio para mim?\"\n",
              " }\n",
              " role: \"user\",\n",
              " parts {\n",
              "   text: \"\\345\\275\\223\\347\\204\\266\\345\\217\\257\\344\\273\\245\\357\\274\\201\\346\\210\\221\\345\\276\\210\\344\\271\\220\\346\\204\\217\\345\\270\\256\\345\\212\\251\\344\\275\\240\\345\\255\\246\\344\\271\\240\\345\\237\\272\\347\\241\\200\\347\\232\\204\\344\\270\\255\\346\\226\\207\\346\\231\\256\\351\\200\\232\\350\\257\\235\\343\\200\\202\\346\\210\\221\\344\\273\\254\\345\\217\\257\\344\\273\\245\\344\\273\\216\\345\\223\\252\\351\\207\\214\\345\\274\\200\\345\\247\\213\\345\\221\\242\\357\\274\\237\\344\\275\\240\\346\\203\\263\\345\\205\\210\\345\\255\\246\\344\\271\\240\\346\\213\\274\\351\\237\\263\\343\\200\\201\\345\\237\\272\\346\\234\\254\\347\\232\\204\\351\\227\\256\\345\\200\\231\\350\\257\\255\\357\\274\\214\\350\\277\\230\\346\\230\\257\\347\\256\\200\\345\\215\\225\\347\\232\\204\\346\\261\\211\\345\\255\\227\\357\\274\\237 \\n\\n(Of course! I\\'d be happy to help you learn basic Mandarin Chinese. Where would you like to begin? Would you like to start with pinyin, basic greetings, or simple characters?) \\n\"\n",
              " }\n",
              " role: \"model\",\n",
              " parts {\n",
              "   text: \"podemos come\\303\\247ar com o pinyin\"\n",
              " }\n",
              " role: \"user\",\n",
              " parts {\n",
              "   text: \"\\345\\245\\275\\347\\232\\204\\357\\274\\201\\346\\213\\274\\351\\237\\263\\346\\230\\257\\345\\255\\246\\344\\271\\240\\344\\270\\255\\346\\226\\207\\345\\217\\221\\351\\237\\263\\347\\232\\204\\345\\237\\272\\347\\241\\200\\357\\274\\214\\345\\256\\203\\344\\275\\277\\347\\224\\250\\347\\275\\227\\351\\251\\254\\345\\255\\227\\346\\257\\215\\346\\235\\245\\350\\241\\250\\347\\244\\272\\346\\261\\211\\345\\255\\227\\347\\232\\204\\350\\257\\273\\351\\237\\263\\343\\200\\202\\n\\n**\\345\\243\\260\\346\\257\\215 (Initials)**\\n\\n\\346\\213\\274\\351\\237\\263\\346\\234\\211 23 \\344\\270\\252\\345\\243\\260\\346\\257\\215\\357\\274\\214\\345\\256\\203\\344\\273\\254\\351\\203\\275\\346\\230\\257\\350\\276\\205\\351\\237\\263\\357\\274\\232\\n\\n*   b, p, m, f, d, t, n, l, g, k, h, j, q, x, zh, ch, sh, r, z, c, s, y, w\\n\\n**\\351\\237\\265\\346\\257\\215 (Finals)**\\n\\n\\346\\213\\274\\351\\237\\263\\346\\234\\211 36 \\344\\270\\252\\351\\237\\265\\346\\257\\215\\357\\274\\214\\345\\256\\203\\344\\273\\254\\351\\203\\275\\346\\230\\257\\345\\205\\203\\351\\237\\263\\346\\210\\226\\345\\205\\203\\351\\237\\263\\347\\273\\204\\345\\220\\210\\357\\274\\232\\n\\n*   a, o, e, i, u, \\303\\274, ai, ei, ao, ou, ia, ie, ua, uo, \\303\\274e, iao, iou, ian, in, iang, ing, uai, uei, uan, uen, uang, ueng, ong\\n\\n**\\345\\243\\260\\350\\260\\203 (Tones)**\\n\\n\\346\\231\\256\\351\\200\\232\\350\\257\\235\\346\\234\\211\\345\\233\\233\\344\\270\\252\\345\\243\\260\\350\\260\\203\\357\\274\\214\\345\\212\\240\\344\\270\\212\\344\\270\\200\\344\\270\\252\\350\\275\\273\\345\\243\\260\\357\\274\\232\\n\\n*   **\\347\\254\\254\\344\\270\\200\\345\\243\\260 (\\313\\211)**\\357\\274\\232\\351\\253\\230\\345\\271\\263\\350\\260\\203\\357\\274\\214\\344\\276\\213\\345\\246\\202\\357\\274\\232m\\304\\201 (\\345\\246\\210)\\n*   **\\347\\254\\254\\344\\272\\214\\345\\243\\260 (\\313\\212)**\\357\\274\\232\\345\\215\\207\\350\\260\\203\\357\\274\\214\\344\\276\\213\\345\\246\\202\\357\\274\\232m\\303\\241 (\\351\\272\\273)\\n*   **\\347\\254\\254\\344\\270\\211\\345\\243\\260 (\\313\\207)**\\357\\274\\232\\351\\231\\215\\345\\215\\207\\350\\260\\203\\357\\274\\214\\344\\276\\213\\345\\246\\202\\357\\274\\232m\\307\\216 (\\351\\251\\254)\\n*   **\\347\\254\\254\\345\\233\\233\\345\\243\\260 (\\313\\213)**\\357\\274\\232\\351\\231\\215\\350\\260\\203\\357\\274\\214\\344\\276\\213\\345\\246\\202\\357\\274\\232m\\303\\240 (\\351\\252\\202)\\n*   **\\350\\275\\273\\345\\243\\260**\\357\\274\\232\\346\\262\\241\\346\\234\\211\\345\\233\\272\\345\\256\\232\\350\\260\\203\\345\\200\\274\\357\\274\\214\\344\\276\\213\\345\\246\\202\\357\\274\\232ma (\\345\\220\\227)\\n\\n\\346\\210\\221\\344\\273\\254\\345\\217\\257\\344\\273\\245\\345\\205\\210\\347\\273\\203\\344\\271\\240\\344\\270\\200\\344\\272\\233\\347\\256\\200\\345\\215\\225\\347\\232\\204\\351\\237\\263\\350\\212\\202\\357\\274\\214\\346\\257\\224\\345\\246\\202\\357\\274\\232\\n\\n*   ba, pa, ma, fa\\n*   da, ta, na, la\\n*   ga, ka, ha\\n\\n\\344\\275\\240\\346\\203\\263\\350\\257\\225\\350\\257\\225\\345\\220\\227\\357\\274\\237\\n\"\n",
              " }\n",
              " role: \"model\",\n",
              " parts {\n",
              "   text: \"ensine na minha l\\303\\255ngua\"\n",
              " }\n",
              " role: \"user\",\n",
              " parts {\n",
              "   text: \"Ah, desculpe! Claro, podemos continuar em portugu\\303\\252s. \\n\\n**Pinyin: A Base da Pron\\303\\272ncia Chinesa**\\n\\nPinyin \\303\\251 um sistema que usa o alfabeto romano para representar os sons dos caracteres chineses. \\303\\211 essencial para aprender a pronunciar o mandarim corretamente. \\n\\n**Iniciais (Consoantes)**\\n\\nExistem 23 iniciais em pinyin, todas consoantes:\\n\\n*   b, p, m, f, d, t, n, l, g, k, h, j, q, x, zh, ch, sh, r, z, c, s, y, w\\n\\n**Finais (Vogais)**\\n\\nExistem 36 finais em pinyin, que s\\303\\243o vogais ou combina\\303\\247\\303\\265es de vogais:\\n\\n*   a, o, e, i, u, \\303\\274, ai, ei, ao, ou, ia, ie, ua, uo, \\303\\274e, iao, iou, ian, in, iang, ing, uai, uei, uan, uen, uang, ueng, ong\\n\\n**Tons**\\n\\nO mandarim tem quatro tons, mais um tom neutro:\\n\\n*   **Primeiro tom (\\313\\211)**: Tom alto e nivelado, como em \\\"m\\304\\201\\\" (m\\303\\243e)\\n*   **Segundo tom (\\313\\212)**: Tom ascendente, como em \\\"m\\303\\241\\\" (c\\303\\242nhamo)\\n*   **Terceiro tom (\\313\\207)**: Tom descendente e ascendente, como em \\\"m\\307\\216\\\" (cavalo)\\n*   **Quarto tom (\\313\\213)**: Tom descendente, como em \\\"m\\303\\240\\\" (xingar)\\n*   **Tom neutro**: Sem tom definido, como em \\\"ma\\\" (part\\303\\255cula interrogativa)\\n\\nPodemos come\\303\\247ar praticando algumas s\\303\\255labas simples, como:\\n\\n*   ba, pa, ma, fa\\n*   da, ta, na, la\\n*   ga, ka, ha\\n\\nGostaria de tentar pronunci\\303\\241-las? \\n\"\n",
              " }\n",
              " role: \"model\",\n",
              " parts {\n",
              "   text: \"retornaremos mais tarde para continuarmos as aulas\"\n",
              " }\n",
              " role: \"user\",\n",
              " parts {\n",
              "   text: \"Sem problemas! Estou aqui sempre que quiser retomar as aulas de mandarim. Avise-me quando estiver pronto para continuar. At\\303\\251 mais! \\n\"\n",
              " }\n",
              " role: \"model\"]"
            ]
          },
          "metadata": {},
          "execution_count": 24
        }
      ],
      "source": [
        "chat.history"
      ]
    },
    {
      "cell_type": "code",
      "execution_count": 20,
      "metadata": {
        "id": "dAcbPBocgzeX",
        "outputId": "70594112-25a6-4bac-ce32-802dadf1c012",
        "colab": {
          "base_uri": "https://localhost:8080/",
          "height": 142
        }
      },
      "outputs": [
        {
          "output_type": "display_data",
          "data": {
            "text/plain": [
              "<IPython.core.display.Markdown object>"
            ],
            "text/markdown": "> **user**: qual a capital da China?"
          },
          "metadata": {}
        },
        {
          "output_type": "stream",
          "name": "stdout",
          "text": [
            "-------------------------------------------\n"
          ]
        },
        {
          "output_type": "display_data",
          "data": {
            "text/plain": [
              "<IPython.core.display.Markdown object>"
            ],
            "text/markdown": "> **model**: A capital da China é Pequim. 🇨🇳 \n"
          },
          "metadata": {}
        },
        {
          "output_type": "stream",
          "name": "stdout",
          "text": [
            "-------------------------------------------\n"
          ]
        }
      ],
      "source": [
        "#Melhorando a visualização\n",
        "#Código disponível em https://ai.google.dev/tutorials/python_quickstart#import_packages\n",
        "import textwrap\n",
        "from IPython.display import display\n",
        "from IPython.display import Markdown\n",
        "\n",
        "def to_markdown(text):\n",
        "  text = text.replace('•', '  *')\n",
        "  return Markdown(textwrap.indent(text, '> ', predicate=lambda _: True))\n",
        "\n",
        "#Imprimindo o histórico\n",
        "for message in chat.history:\n",
        "  display(to_markdown(f'**{message.role}**: {message.parts[0].text}'))\n",
        "  print('-------------------------------------------')"
      ]
    }
  ],
  "metadata": {
    "colab": {
      "provenance": [],
      "toc_visible": true,
      "include_colab_link": true
    },
    "kernelspec": {
      "display_name": "Python 3",
      "name": "python3"
    },
    "language_info": {
      "name": "python"
    }
  },
  "nbformat": 4,
  "nbformat_minor": 0
}